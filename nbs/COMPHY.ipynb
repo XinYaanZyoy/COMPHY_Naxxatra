{
 "cells": [
  {
   "cell_type": "markdown",
   "metadata": {
    "slideshow": {
     "slide_type": "slide"
    }
   },
   "source": [
    "# Computational Physics\n",
    "![](https://upload.wikimedia.org/wikipedia/commons/thumb/9/91/Computational_physics_diagram.svg/220px-Computational_physics_diagram.svg.png)\n",
    "[img src](https://upload.wikimedia.org/wikipedia/commons/thumb/9/91/Computational_physics_diagram.svg/220px-Computational_physics_diagram.svg.png)\n",
    "\n",
    "PURPOSE: to build a vision in thoughts of listeners to process the philosophy of computational physics, and most importantly to make them aware of the complexities in solving even the simplest problems of natural sciences."
   ]
  },
  {
   "cell_type": "markdown",
   "metadata": {
    "slideshow": {
     "slide_type": "slide"
    }
   },
   "source": [
    "## Bird-view\n",
    "- ## Session 1: DEC 12 2020\n",
    "    - __Monte Carlo Simulation__: An introduction to Computational Physics\n",
    "- ## Session 2: DEC 21 2020\n",
    "    - __Molecular Dynamics__: A Glimpse of Computational Physics\n",
    "\n",
    "*NOTE*: for the sake of curiosity of listeners, what's possible beyond, i list few aspects.\n",
    " - On the computation of quantum mechanical systems and the limitations of classical computers\n",
    " - simulating molecules on Quantum Computers"
   ]
  },
  {
   "cell_type": "markdown",
   "metadata": {
    "slideshow": {
     "slide_type": "slide"
    }
   },
   "source": [
    "## Session 1: MC\n",
    "\n",
    "### Prereqs\n",
    "- High-School Phsysics\n",
    "- High-School Calculus and Statistics\n",
    "- Basic Python\n",
    "- Familiarity with Jupyter"
   ]
  },
  {
   "cell_type": "markdown",
   "metadata": {
    "slideshow": {
     "slide_type": "subslide"
    }
   },
   "source": [
    "## Session 1: MC\n",
    "\n",
    "### content\n",
    "- What and Why of COMPHY\n",
    "- Rational numbers on Hardware Memory\n",
    "- Random number generators\n",
    "- choose\n",
    "    - riemann summs vs MC integrals\n",
    "    - PI computation\n",
    "- Jupyter Play (let's do it!)\n"
   ]
  },
  {
   "cell_type": "markdown",
   "metadata": {
    "slideshow": {
     "slide_type": "slide"
    }
   },
   "source": [
    "## Session 2: MD\n",
    "\n",
    "### prereqs\n",
    "\n",
    "- Intermediate Statistical Mechanics\n",
    "- Linear Algebra\n",
    "- ODEs\n",
    "- Basic PDEs (optional)"
   ]
  },
  {
   "cell_type": "markdown",
   "metadata": {
    "slideshow": {
     "slide_type": "subslide"
    }
   },
   "source": [
    "## Session 2: MD\n",
    "\n",
    "### content\n",
    "\n",
    "__Recap__: SM\n",
    "   - Noble Gases (Ar)\n",
    "   - Intermolecular Pair Potentials (LJ)\n",
    "   - Equipartition Theorem\n",
    "   - types of BCs (PBC)\n",
    "   \n",
    "__Jupyter Play__:\n",
    "   - Noble Gas(Ar) in a Box\n",
    "   - Ising Model (if time is our friend!)"
   ]
  },
  {
   "cell_type": "markdown",
   "metadata": {},
   "source": [
    "<p align='center'>THIS DOES NOT EXISTS! CRISIS!</p>"
   ]
  },
  {
   "cell_type": "code",
   "execution_count": null,
   "metadata": {},
   "outputs": [],
   "source": []
  }
 ],
 "metadata": {
  "celltoolbar": "Slideshow",
  "ipub": {
   "language": "english",
   "titlepage": {
    "author": "XinYaanZyoy",
    "email": "XinYaanZyoy@gmail.com",
    "title": "Monte Carlo Simulation: An introduction to Computational Physics",
    "toc": true
   }
  },
  "kernelspec": {
   "display_name": "Python 3",
   "language": "python",
   "name": "python3"
  },
  "language_info": {
   "codemirror_mode": {
    "name": "ipython",
    "version": 3
   },
   "file_extension": ".py",
   "mimetype": "text/x-python",
   "name": "python",
   "nbconvert_exporter": "python",
   "pygments_lexer": "ipython3",
   "version": "3.8.6"
  },
  "rise": {
   "enable_chalkboard": true,
   "scroll": true
  }
 },
 "nbformat": 4,
 "nbformat_minor": 4
}
