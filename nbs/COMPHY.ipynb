{
 "cells": [
  {
   "cell_type": "markdown",
   "metadata": {
    "slideshow": {
     "slide_type": "slide"
    }
   },
   "source": [
    "# Computational Physics\n",
    "![](https://upload.wikimedia.org/wikipedia/commons/thumb/9/91/Computational_physics_diagram.svg/220px-Computational_physics_diagram.svg.png)\n",
    "[img src](https://upload.wikimedia.org/wikipedia/commons/thumb/9/91/Computational_physics_diagram.svg/220px-Computational_physics_diagram.svg.png)"
   ]
  },
  {
   "cell_type": "markdown",
   "metadata": {
    "slideshow": {
     "slide_type": "slide"
    }
   },
   "source": [
    "## series: overview\n",
    "\n",
    "### Session 1\n",
    "__Monte Carlo Simulation__: An introduction to Computational Physics\n",
    "\n",
    "- High-School Phsysics\n",
    "- High-School Calculus and Statistics\n",
    "- Basic Python\n",
    "- Familiarity with Jupyter"
   ]
  },
  {
   "cell_type": "code",
   "execution_count": 1,
   "metadata": {},
   "outputs": [
    {
     "name": "stdout",
     "output_type": "stream",
     "text": [
      "searching for custom.js in  /home/gitpod/.jupyter/custom/custom.js\n",
      "You don't have a custom.js file\n"
     ]
    }
   ],
   "source": [
    "from jupyter_core.paths import jupyter_config_dir\n",
    "jupyter_dir = jupyter_config_dir()\n",
    "import os.path\n",
    "custom_js_path = os.path.join(jupyter_dir, 'custom', 'custom.js')\n",
    "print(\"searching for custom.js in \", custom_js_path)\n",
    "#  my custom js\n",
    "if os.path.isfile(custom_js_path):\n",
    "    with open(custom_js_path) as f:\n",
    "        print(f.read())\n",
    "else:\n",
    "    print(\"You don't have a custom.js file\")"
   ]
  },
  {
   "cell_type": "code",
   "execution_count": null,
   "metadata": {},
   "outputs": [],
   "source": []
  }
 ],
 "metadata": {
  "celltoolbar": "Slideshow",
  "kernelspec": {
   "display_name": "Python 3",
   "language": "python",
   "name": "python3"
  },
  "language_info": {
   "codemirror_mode": {
    "name": "ipython",
    "version": 3
   },
   "file_extension": ".py",
   "mimetype": "text/x-python",
   "name": "python",
   "nbconvert_exporter": "python",
   "pygments_lexer": "ipython3",
   "version": "3.8.6"
  }
 },
 "nbformat": 4,
 "nbformat_minor": 4
}
