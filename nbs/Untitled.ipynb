{
 "cells": [
  {
   "cell_type": "code",
   "execution_count": 2,
   "metadata": {},
   "outputs": [],
   "source": [
    "import math\n",
    "from tqdm.auto import tqdm\n",
    "import matplotlib.pyplot as plt"
   ]
  },
  {
   "cell_type": "code",
   "execution_count": 3,
   "metadata": {},
   "outputs": [],
   "source": [
    "pi = math.pi\n",
    "e = math.e"
   ]
  },
  {
   "cell_type": "code",
   "execution_count": 4,
   "metadata": {},
   "outputs": [],
   "source": [
    "def f(i):\n",
    "    N = (pi*x) + e + i\n",
    "\n",
    "    D = (e*x) + pi + i\n",
    "    return float(N/D)\n",
    "\n",
    "def g(i):\n",
    "    N = (pi/x) + e + i\n",
    "\n",
    "    D = (e/x) + pi + i\n",
    "    return float(N/D)"
   ]
  },
  {
   "cell_type": "code",
   "execution_count": 11,
   "metadata": {},
   "outputs": [],
   "source": [
    "I=1000\n",
    "X = 100"
   ]
  },
  {
   "cell_type": "code",
   "execution_count": 12,
   "metadata": {},
   "outputs": [
    {
     "data": {
      "application/vnd.jupyter.widget-view+json": {
       "model_id": "d4f3ac7513c447fe95b096ec6ac124b2",
       "version_major": 2,
       "version_minor": 0
      },
      "text/plain": [
       "HBox(children=(HTML(value=''), FloatProgress(value=0.0), HTML(value='')))"
      ]
     },
     "metadata": {},
     "output_type": "display_data"
    },
    {
     "name": "stdout",
     "output_type": "stream",
     "text": [
      "1.0\n",
      "13.927924981613533\n",
      "89.77917556510886\n",
      "439.76081334046216\n",
      "1848.7870482074607\n",
      "7006.396013919854\n",
      "24550.74946343656\n",
      "80767.76436770937\n",
      "252022.07244513577\n",
      "751325.4832280093\n",
      "2151715.8822122114\n",
      "5945218.256845838\n",
      "15902785.332345448\n",
      "41298502.9036664\n",
      "104372653.42603873\n",
      "257225267.33371323\n",
      "619267080.2930564\n",
      "1458633478.1556597\n",
      "3365933984.2526197\n",
      "7618654355.076277\n",
      "16932902367.318968\n",
      "36990118632.888985\n",
      "79491777773.16272\n",
      "168185112447.15564\n",
      "350589278701.96313\n",
      "720520367501.6492\n",
      "1460825345030.7017\n",
      "2923494364419.831\n",
      "5778133984631.911\n",
      "11284118107956.77\n",
      "21784173320443.938\n",
      "41590456898550.74\n",
      "78559610217279.4\n",
      "146865946295199.4\n",
      "271839410148603.53\n",
      "498330755992505.7\n",
      "905051286497404.2\n",
      "1628949699187200.8\n",
      "2906317094301536.0\n",
      "5141556821008446.0\n",
      "9021363784656190.0\n",
      "1.5702897688815516e+16\n",
      "2.712167617564085e+16\n",
      "4.6491839926495384e+16\n",
      "7.911346370052394e+16\n",
      "1.3366675468290936e+17\n",
      "2.2427341987446538e+17\n",
      "3.737593627359922e+17\n",
      "6.187872407696586e+17\n",
      "1.0178823530186697e+18\n",
      "1.6639098648962368e+18\n",
      "2.703362031208223e+18\n",
      "4.3660069790671585e+18\n",
      "7.01021873284777e+18\n",
      "1.1191915629874459e+19\n",
      "1.7768860538319208e+19\n",
      "2.8057663923030348e+19\n",
      "4.406895208580094e+19\n",
      "6.8857912129665606e+19\n",
      "1.0704434615463412e+20\n",
      "1.655806284653957e+20\n",
      "2.5488059458463236e+20\n",
      "3.904716253301553e+20\n",
      "5.954018860167881e+20\n",
      "9.037329422039108e+20\n",
      "1.365585952831164e+21\n",
      "2.0544026346462228e+21\n",
      "3.0773510964085155e+21\n",
      "4.590179905152839e+21\n",
      "6.818339956434416e+21\n",
      "1.0086905030755823e+22\n",
      "1.4862798580361789e+22\n",
      "2.1814170610097594e+22\n",
      "3.189359066907569e+22\n",
      "4.645419922257853e+22\n",
      "6.741131370304587e+22\n",
      "9.746651374342816e+22\n",
      "1.4041732402452544e+23\n",
      "2.015837884910302e+23\n",
      "2.8839416351983928e+23\n",
      "4.111865364435802e+23\n",
      "5.8430255688488e+23\n",
      "8.2757515806474e+23\n",
      "1.1683460990774e+24\n",
      "1.6441939085036722e+24\n",
      "2.3066116227982512e+24\n",
      "3.225950797725756e+24\n",
      "4.4980490319226295e+24\n",
      "6.253089600770548e+24\n",
      "8.667412600983264e+24\n",
      "1.1979218524081535e+25\n",
      "1.6509391742188053e+25\n",
      "2.268904117937826e+25\n",
      "3.109583145544071e+25\n",
      "4.250178905934658e+25\n",
      "5.79360512009082e+25\n",
      "7.876702584669207e+25\n",
      "1.0680970767239977e+26\n",
      "1.4446551832035223e+26\n",
      "1.949041003848958e+26\n",
      "\n"
     ]
    }
   ],
   "source": [
    "data = []\n",
    "for x in tqdm(range(1,X+1)):    \n",
    "    L = 0\n",
    "    sigma = 0\n",
    "    for j in range(I+1):\n",
    "        prod = 1\n",
    "        for i in range(j+1):\n",
    "            prod = prod * f(i)\n",
    "        sigma = sigma + prod\n",
    "    L = sigma\n",
    "\n",
    "    R = 0\n",
    "    sigma = 0\n",
    "    for j in range(I+1):\n",
    "        prod = 1\n",
    "        for i in range(j+1):\n",
    "            prod = prod * g(i)\n",
    "        sigma = sigma + prod\n",
    "    R = sigma\n",
    "    \n",
    "    data.append(L/R)\n",
    "    print(L/R)"
   ]
  },
  {
   "cell_type": "code",
   "execution_count": 13,
   "metadata": {},
   "outputs": [
    {
     "data": {
      "text/plain": [
       "[<matplotlib.lines.Line2D at 0x21ef25fe700>]"
      ]
     },
     "execution_count": 13,
     "metadata": {},
     "output_type": "execute_result"
    },
    {
     "data": {
      "image/png": "[encoded data removed]",
      "text/plain": [
       "<Figure size 432x288 with 1 Axes>"
      ]
     },
     "metadata": {
      "needs_background": "light"
     },
     "output_type": "display_data"
    }
   ],
   "source": [
    "plt.plot([i for i in range(len(data))], data)"
   ]
  },
  {
   "cell_type": "code",
   "execution_count": null,
   "metadata": {},
   "outputs": [],
   "source": []
  }
 ],
 "metadata": {
  "kernelspec": {
   "display_name": "Python 3",
   "language": "python",
   "name": "python3"
  },
  "language_info": {
   "codemirror_mode": {
    "name": "ipython",
    "version": 3
   },
   "file_extension": ".py",
   "mimetype": "text/x-python",
   "name": "python",
   "nbconvert_exporter": "python",
   "pygments_lexer": "ipython3",
   "version": "3.8.5"
  }
 },
 "nbformat": 4,
 "nbformat_minor": 4
}
