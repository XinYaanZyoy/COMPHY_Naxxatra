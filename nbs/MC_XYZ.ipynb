{
 "cells": [
  {
   "cell_type": "markdown",
   "metadata": {
    "slideshow": {
     "slide_type": "slide"
    }
   },
   "source": [
    "# Monte Carlo simulation: An introduction to Computational Physics\n",
    "![](https://upload.wikimedia.org/wikipedia/commons/8/84/Pi_30K.gif)\n",
    "[GIF Source](https://upload.wikimedia.org/wikipedia/commons/8/84/Pi_30K.gif)"
   ]
  },
  {
   "cell_type": "markdown",
   "metadata": {
    "slideshow": {
     "slide_type": "skip"
    }
   },
   "source": [
    "### playground: [https://1969-e4687bd2-979b-4a15-a6eb-f46b23e3b2c0.ws-us03.gitpod.io/](https://1969-e4687bd2-979b-4a15-a6eb-f46b23e3b2c0.ws-us03.gitpod.io/)\n",
    "    - password == 1969\n",
    "    - availible only while in live session, the work individuals do will be      saved automatically for later use.\n",
    "    - IN SESSION: please `duplicate` the file __MC_XYZ.ipynb__, rename it and     use it to play along the lecture.\n",
    "### repo: [https://github.com/XinYaanZyoy/COMPHY_Naxxatra](https://github.com/XinYaanZyoy/COMPHY_Naxxatra)\n",
    "    - those automatically saved work will be availible on this repo, while and     after the live session.\n",
    "### author: [https://XinYaanZyoy.github.io](http://XinYaanZyoy.github.io)\n",
    "    - which is kinda another repo and not a server based site!\n",
    "### email: [mailto:XinYaanZyoy@gmail.com](mailto:XinYaanZyoy@gmail.com)\n",
    "    - i'm highly active on Twitter(@XinYaanZyoy) and Discord(XinYaanZyoy#1703)   for longer discussions on natural sciences and its philosophies, 👀!\n"
   ]
  },
  {
   "cell_type": "markdown",
   "metadata": {
    "slideshow": {
     "slide_type": "slide"
    }
   },
   "source": [
    "## Session 1: MC\n",
    "\n",
    "### Prereqs\n",
    "- High-School Phsysics\n",
    "- High-School Calculus and Statistics\n",
    "- Basic Python\n",
    "- Familiarity with Jupyter"
   ]
  },
  {
   "cell_type": "markdown",
   "metadata": {
    "slideshow": {
     "slide_type": "subslide"
    }
   },
   "source": [
    "## Session 1: MC\n",
    "\n",
    "### content\n",
    "- What and Why of COMPHY\n",
    "- Rational numbers on Hardware Memory\n",
    "- Random number generators\n",
    "- choose\n",
    "    - PI computation\n",
    "    - riemann summs vs MC integrals (if time is with us!)\n",
    "- Jupyter Play (let's do it!)\n"
   ]
  },
  {
   "cell_type": "markdown",
   "metadata": {
    "slideshow": {
     "slide_type": "slide"
    }
   },
   "source": [
    "## RNG\n",
    "\n",
    "$$\\mu = \\mathbb{E}(Y)$$ where Y is a distribution\n",
    "\n",
    "generate $Y_i$s from this distribution randomly\n",
    "\n",
    "$$\\hat{\\mu} = \\frac{1}{n}\\sum_{i=1}^nY_i$$ where $Y = f(X)$ and the var $$X \\in \\mathbb{D} \\subseteq \\mathbb{R}^d$$ has"
   ]
  },
  {
   "cell_type": "markdown",
   "metadata": {
    "slideshow": {
     "slide_type": "slide"
    }
   },
   "source": [
    "## Riemann sums vs MC integrals\n",
    "$$\\int_{x_0}^{x} f(x) dx = (x-x_0) \\lim_{n \\to \\infty}{\\sum_{i=0}^n f(x_i)}$$\n",
    "$$V^{d+1}=V^{d} \\langle f \\rangle$$\n",
    "the avg of function of discrete variable tends to an integral as the size of discrete variable tends to infinity\n",
    "\n",
    "that's a beautiful Geometry to Albegra realtion!\n",
    "\n",
    "instead of at pre-determined nodes, we evaluate avg at randomly choosen nodes in the domain space"
   ]
  },
  {
   "cell_type": "markdown",
   "metadata": {
    "slideshow": {
     "slide_type": "slide"
    }
   },
   "source": [
    "## How to compute $ \\langle f \\rangle $ ?\n",
    "\n",
    "1. simply by riemann sums\n",
    "    - that is we do sums and divide it by number of sums we did! simple!\n",
    "2. something random?\n",
    "    - that is randomly choosing points within the $\\mathbb{D}$, i.e, a d dimensional space number in $V^d$\n",
    "\n",
    "there exists many such ways"
   ]
  },
  {
   "cell_type": "markdown",
   "metadata": {
    "slideshow": {
     "slide_type": "slide"
    }
   },
   "source": [
    "## Error in $ \\langle f \\rangle $\n",
    "\n",
    "Error lies in the std dev of PDF of $ \\langle f \\rangle $\n",
    "\n",
    "$$\\langle f \\rangle_j = \\frac{1}{M}\\sum_{i=1}^M [f(x_i)]_j$$\n",
    "\n",
    "$$\\langle f \\rangle = \\frac{1}{M} \\sum_{j=1}^N \\langle f \\rangle_j$$"
   ]
  },
  {
   "cell_type": "markdown",
   "metadata": {
    "slideshow": {
     "slide_type": "slide"
    }
   },
   "source": [
    "## PDF of $\\langle f \\rangle_j$\n",
    "\n",
    "central limit theorem\n",
    "\n",
    "PDF of $\\langle f \\rangle_j$ tends to Gaussian Distribution as M tends to infinity\n",
    "\n",
    "Random Walk, d after n"
   ]
  },
  {
   "cell_type": "markdown",
   "metadata": {
    "slideshow": {
     "slide_type": "slide"
    }
   },
   "source": [
    "$$N=n^d$$\n",
    "$$Error \\approx O(n^{-2}) \\approx O(N^{\\frac{-2}{d}})$$\n",
    "\n",
    "comp cost $\\approx O(n^{d})$\n",
    "\n",
    "compare to age of uni\n",
    "\n",
    "error in mc is indepedent of d"
   ]
  },
  {
   "cell_type": "markdown",
   "metadata": {},
   "source": [
    "use known integral to estimate the error"
   ]
  },
  {
   "cell_type": "markdown",
   "metadata": {},
   "source": [
    "- natural(real?) ones:\n",
    "    - [atmospheric noice](https://www.random.org/)\n",
    "    - [quantum](http://www.randomnumbers.info/) (lights/molecules)\n",
    "        - https://www.idquantique.com/random-number-generation/products/quantis-random-number-generator/\n",
    "    - time gap b/n two radioactive decays\n",
    "    - hardware noice\n",
    "        - /dev/random in unix fs: a kernel entropy pool of 4096 bits\n",
    "- pseudo ones:\n",
    "    - hardware noice + hashing\n",
    "        - /dev/urandom in unix fs"
   ]
  },
  {
   "cell_type": "markdown",
   "metadata": {},
   "source": [
    "# pseudo RNGs\n",
    "\n",
    "- modulo/congruent:"
   ]
  },
  {
   "cell_type": "code",
   "execution_count": 12,
   "metadata": {},
   "outputs": [],
   "source": [
    "def randmod(x, a, c, m):\n",
    "    while True:\n",
    "        x = (a*x + c)%m\n",
    "        yield x"
   ]
  },
  {
   "cell_type": "code",
   "execution_count": 17,
   "metadata": {},
   "outputs": [
    {
     "name": "stdout",
     "output_type": "stream",
     "text": [
      "9\n"
     ]
    }
   ],
   "source": [
    "seed = 0\n",
    "a = 4\n",
    "c = 1\n",
    "m = 9\n",
    "l = []\n",
    "for i in randmod(seed, a, c, m):\n",
    "    l.append(i)\n",
    "    if i==seed:\n",
    "        break\n",
    "print(len(l))"
   ]
  },
  {
   "cell_type": "markdown",
   "metadata": {},
   "source": [
    "# how to test RNGs?\n",
    "\n",
    "1. dist\n",
    "    - avg\n",
    "    - var\n",
    "2. corre\n",
    "    - kth moment\n",
    "3. scatter plot!"
   ]
  },
  {
   "cell_type": "code",
   "execution_count": 18,
   "metadata": {},
   "outputs": [],
   "source": [
    "\n",
    "import random"
   ]
  },
  {
   "cell_type": "code",
   "execution_count": 19,
   "metadata": {},
   "outputs": [
    {
     "data": {
      "text/plain": [
       "0.8422336781104964"
      ]
     },
     "execution_count": 19,
     "metadata": {},
     "output_type": "execute_result"
    }
   ],
   "source": [
    "random.random()"
   ]
  },
  {
   "cell_type": "markdown",
   "metadata": {},
   "source": [
    "avg kth moment of set of random nums\n",
    "\n",
    "$$\\langle x^k \\rangle = \\frac{1}{N} \\sum_{i=1}^N x_i^k p(x_i)$$\n",
    "\n",
    "p(xi)=1 for uniform dist\n",
    "\n"
   ]
  },
  {
   "cell_type": "markdown",
   "metadata": {},
   "source": [
    "compare riemann, mc, a-r"
   ]
  },
  {
   "cell_type": "markdown",
   "metadata": {},
   "source": []
  }
 ],
 "metadata": {
  "celltoolbar": "Slideshow",
  "ipub": {
   "language": "english",
   "titlepage": {
    "author": "XinYaanZyoy",
    "email": "XinYaanZyoy@gmail.com",
    "title": "Monte Carlo Simulation: An introduction to Computational Physics",
    "toc": true
   }
  },
  "kernelspec": {
   "display_name": "Python 3",
   "language": "python",
   "name": "python3"
  },
  "language_info": {
   "codemirror_mode": {
    "name": "ipython",
    "version": 3
   },
   "file_extension": ".py",
   "mimetype": "text/x-python",
   "name": "python",
   "nbconvert_exporter": "python",
   "pygments_lexer": "ipython3",
   "version": "3.8.5"
  },
  "rise": {
   "enable_chalkboard": true,
   "scroll": true
  }
 },
 "nbformat": 4,
 "nbformat_minor": 4
}
