{
 "cells": [
  {
   "cell_type": "markdown",
   "metadata": {
    "slideshow": {
     "slide_type": "slide"
    }
   },
   "source": [
    "# Monte Carlo simulation: An introduction to Computational Physics\n",
    "![](https://upload.wikimedia.org/wikipedia/commons/8/84/Pi_30K.gif)\n",
    "[GIF Source](https://upload.wikimedia.org/wikipedia/commons/8/84/Pi_30K.gif)\n",
    "### playground: [https://1969-e4687bd2-979b-4a15-a6eb-f46b23e3b2c0.ws-us03.gitpod.io/](https://1969-e4687bd2-979b-4a15-a6eb-f46b23e3b2c0.ws-us03.gitpod.io/)\n",
    "    - password == 1969\n",
    "    - availible only while in live session, the work individuals do will be      saved automatically for later use.\n",
    "    - IN SESSION: please `duplicate` the file __MC_XYZ.ipynb__, rename it and     use it to play along the lecture.\n",
    "### repo: [https://github.com/XinYaanZyoy/COMPHY_Naxxatra](https://github.com/XinYaanZyoy/COMPHY_Naxxatra)\n",
    "    - those automatically saved work will be availible on this repo, while and     after the live session.\n",
    "### author: [https://XinYaanZyoy.github.io](http://XinYaanZyoy.github.io)\n",
    "    - which is kinda another repo and not a server based site!\n",
    "### email: [mailto:XinYaanZyoy@gmail.com](mailto:XinYaanZyoy@gmail.com)\n",
    "    - i'm highly active on Twitter(@XinYaanZyoy) and Discord(XinYaanZyoy#1703)   for longer discussions on natural sciences and its philosophies, 👀!\n"
   ]
  }
 ],
 "metadata": {
  "ipub": {
   "language": "english",
   "titlepage": {
    "author": "XinYaanZyoy",
    "email": "XinYaanZyoy@gmail.com",
    "title": "Monte Carlo Simulation: An introduction to Computational Physics",
    "toc": true
   }
  },
  "kernelspec": {
   "display_name": "Python 3",
   "language": "python",
   "name": "python3"
  },
  "language_info": {
   "codemirror_mode": {
    "name": "ipython",
    "version": 3
   },
   "file_extension": ".py",
   "mimetype": "text/x-python",
   "name": "python",
   "nbconvert_exporter": "python",
   "pygments_lexer": "ipython3",
   "version": "3.8.6"
  },
  "rise": {
   "enable_chalkboard": true,
   "scroll": true
  }
 },
 "nbformat": 4,
 "nbformat_minor": 4
}
